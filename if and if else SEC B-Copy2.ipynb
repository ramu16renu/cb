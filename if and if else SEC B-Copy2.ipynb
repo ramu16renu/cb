{
 "cells": [
  {
   "cell_type": "code",
   "execution_count": null,
   "metadata": {},
   "outputs": [],
   "source": [
    "# decision making statements"
   ]
  },
  {
   "cell_type": "code",
   "execution_count": null,
   "metadata": {},
   "outputs": [],
   "source": [
    "# what are all comparison operator.\n",
    "#if statement\n",
    "#if else statement\n",
    "#if elif else statement\n",
    "#nested if statement"
   ]
  },
  {
   "cell_type": "code",
   "execution_count": null,
   "metadata": {},
   "outputs": [],
   "source": [
    "# Example if\n",
    "x=4\n",
    "if (x>3):\n",
    "    print(\"lets go for movie\")"
   ]
  },
  {
   "cell_type": "code",
   "execution_count": null,
   "metadata": {},
   "outputs": [],
   "source": [
    "x=2\n",
    "if (x>3):\n",
    "    print(\"lets go for movie\")\n",
    "print(\"program terminated\")"
   ]
  },
  {
   "cell_type": "code",
   "execution_count": null,
   "metadata": {},
   "outputs": [],
   "source": [
    "x=2\n",
    "if (x>3):\n",
    "    print(\"lets go for movie\")\n",
    "if(x<3):\n",
    "    print(\"lets go for bike ride\")\n",
    "    \n",
    "print(\"program terminated\")\n",
    "print(\"if block executed\")"
   ]
  },
  {
   "cell_type": "code",
   "execution_count": null,
   "metadata": {},
   "outputs": [],
   "source": [
    "# example if else\n",
    "\n",
    "x=4\n",
    "\n",
    "if (x>3):\n",
    "    print(\"lets go for movie\")\n",
    "    \n",
    "else:\n",
    "    print(\"lets go for bike ride\")\n",
    "    \n",
    "print(\"program terminated\")\n",
    "print(\"if block executed\")"
   ]
  },
  {
   "cell_type": "code",
   "execution_count": null,
   "metadata": {},
   "outputs": [],
   "source": [
    "# what is nested if ?"
   ]
  },
  {
   "cell_type": "code",
   "execution_count": null,
   "metadata": {},
   "outputs": [],
   "source": []
  },
  {
   "cell_type": "code",
   "execution_count": null,
   "metadata": {},
   "outputs": [],
   "source": [
    "# example\n",
    "name= \"sakthi\"\n",
    "regno=1\n",
    "marks=90\n",
    "if(name==\"sakthi\"):\n",
    "    if(regno==1):\n",
    "        print(\"your mark is\",marks)"
   ]
  },
  {
   "cell_type": "code",
   "execution_count": null,
   "metadata": {},
   "outputs": [],
   "source": [
    "# example 2\n",
    "name= \"sakthi\"\n",
    "regno=1\n",
    "marks=90\n",
    "if(name==\"sakthi\"):\n",
    "    if(regno==10):\n",
    "        print(\"your mark is\",marks)\n",
    "print(\"program terminated\")"
   ]
  },
  {
   "cell_type": "code",
   "execution_count": null,
   "metadata": {},
   "outputs": [],
   "source": [
    "# example 3\n",
    "name= \"sakthi\"\n",
    "regno=1\n",
    "marks=90\n",
    "if(name==\"sakthi\"):\n",
    "    if(regno==1):\n",
    "        print(\"your mark is\",marks)\n",
    "    else:\n",
    "        print(\"please enter valid register number!!!\")\n",
    "        \n",
    "print(\"program terminated\")"
   ]
  },
  {
   "cell_type": "code",
   "execution_count": null,
   "metadata": {},
   "outputs": [],
   "source": [
    "# example 4\n",
    "name= \"vel\"\n",
    "regno=1\n",
    "marks=90\n",
    "if(name==\"sakthi\"):\n",
    "    if(regno==1):\n",
    "        print(\"your mark is\",marks)\n",
    "    else:\n",
    "        print(\"please enter valid register number!!!\")\n",
    "else:\n",
    "    print(\"please enter a valid name!!!\")\n",
    "        \n",
    "print(\"program terminated\")"
   ]
  },
  {
   "cell_type": "code",
   "execution_count": null,
   "metadata": {},
   "outputs": [],
   "source": [
    "# example 4\n",
    "name= \"sakthi\"\n",
    "regno=1\n",
    "marks=90\n",
    "if(name==\"sakthi\"):\n",
    "    if(regno==1):\n",
    "        print(\"your mark is\",marks)\n",
    "    else:\n",
    "        print(\"please enter valid register number!!!\")\n",
    "else:\n",
    "    print(\"please enter a valid name!!!\")\n",
    "        \n",
    "print(\"program terminated\")"
   ]
  },
  {
   "cell_type": "code",
   "execution_count": null,
   "metadata": {},
   "outputs": [],
   "source": [
    "# what is if elif else"
   ]
  },
  {
   "cell_type": "code",
   "execution_count": null,
   "metadata": {},
   "outputs": [],
   "source": [
    "#refer PPT for flow chart"
   ]
  },
  {
   "cell_type": "code",
   "execution_count": null,
   "metadata": {},
   "outputs": [],
   "source": [
    "# example\n",
    "x=1\n",
    "if(x==1):\n",
    "    print(\"one\")\n",
    "if(x==2):\n",
    "    print(\"two\")\n",
    "if(x==3):\n",
    "    print(\"three\")\n",
    "if(x==4):\n",
    "    print(\"four\")\n",
    "if(x==5):\n",
    "    print(\"five\")"
   ]
  },
  {
   "cell_type": "code",
   "execution_count": 1,
   "metadata": {},
   "outputs": [
    {
     "name": "stdout",
     "output_type": "stream",
     "text": [
      "four\n"
     ]
    }
   ],
   "source": [
    "# example 2\n",
    "x=4\n",
    "if(x==1):\n",
    "    print(\"one\")\n",
    "elif(x==2):\n",
    "    print(\"two\")\n",
    "elif(x==3):\n",
    "    print(\"three\")\n",
    "elif(x==4):\n",
    "    print(\"four\")\n",
    "elif(x==5):\n",
    "    print(\"five\")"
   ]
  },
  {
   "cell_type": "code",
   "execution_count": null,
   "metadata": {},
   "outputs": [],
   "source": [
    "# example 3\n",
    "x=6\n",
    "if(x==1):\n",
    "    print(\"one\")\n",
    "elif(x==2):\n",
    "    print(\"two\")\n",
    "elif(x==3):\n",
    "    print(\"three\")\n",
    "elif(x==4):\n",
    "    print(\"four\")\n",
    "elif(x==5):\n",
    "    print(\"five\")\n",
    "else:\n",
    "    print(\"number not found\")\n",
    "    \n",
    "print(\"program terminated\")"
   ]
  },
  {
   "cell_type": "code",
   "execution_count": null,
   "metadata": {},
   "outputs": [],
   "source": [
    "#what is loop?--- To repeat process"
   ]
  },
  {
   "cell_type": "code",
   "execution_count": null,
   "metadata": {},
   "outputs": [],
   "source": [
    "#what is while loop "
   ]
  },
  {
   "cell_type": "code",
   "execution_count": null,
   "metadata": {},
   "outputs": [],
   "source": [
    "#Refer PPT for flowchart\n",
    "\n",
    "#loop---- for\n",
    "#         while--infinite while loop-- ---nested while loop---while loop with else"
   ]
  },
  {
   "cell_type": "code",
   "execution_count": null,
   "metadata": {},
   "outputs": [],
   "source": [
    "# print hai for 5 times\n",
    "print(\"Hai\")\n",
    "print(\"Hai\")\n",
    "print(\"Hai\")\n",
    "print(\"Hai\")\n",
    "print(\"Hai\")"
   ]
  },
  {
   "cell_type": "code",
   "execution_count": null,
   "metadata": {},
   "outputs": [],
   "source": [
    "# using while\n",
    "i=1\n",
    "while(i<=5):\n",
    "    print(\"Hai\")\n",
    "    i=i+1"
   ]
  },
  {
   "cell_type": "code",
   "execution_count": null,
   "metadata": {},
   "outputs": [],
   "source": [
    "# example to print numbers without using loop\n",
    "print(\"number 1\")\n",
    "print(\"number 2\")\n",
    "print(\"number 3\")\n",
    "print(\"number 4\")\n",
    "print(\"number 5\")\n",
    "print(\"number 6\")\n",
    "print(\"number 7\")\n",
    "print(\"number 8\")\n",
    "print(\"number 9\")\n",
    "print(\"number 10\")"
   ]
  },
  {
   "cell_type": "code",
   "execution_count": null,
   "metadata": {},
   "outputs": [],
   "source": [
    "# example printing numbers using loop\n",
    "i=1\n",
    "while(i<=10):\n",
    "    print(\"Number\",i)\n",
    "    i=i+1\n",
    "print(\"terminated from while loop\")"
   ]
  },
  {
   "cell_type": "code",
   "execution_count": null,
   "metadata": {},
   "outputs": [],
   "source": [
    "# even numbers\n",
    "i=2\n",
    "while(i<=20):\n",
    "    print(i)\n",
    "    i=i+2\n",
    "print(\"program terminated\")"
   ]
  },
  {
   "cell_type": "code",
   "execution_count": null,
   "metadata": {},
   "outputs": [],
   "source": [
    "i=20\n",
    "while(i>=2):\n",
    "    print(i)\n",
    "    i=i-2\n",
    "print(\"program terminated\")"
   ]
  },
  {
   "cell_type": "code",
   "execution_count": null,
   "metadata": {},
   "outputs": [],
   "source": [
    "# infinite loop\n",
    "i=1\n",
    "while(i<=10):\n",
    "    print(\"Number\",i)\n",
    "\n",
    "print(\"terminated from while loop\")"
   ]
  },
  {
   "cell_type": "code",
   "execution_count": null,
   "metadata": {},
   "outputs": [],
   "source": [
    "# Nested while loop"
   ]
  },
  {
   "cell_type": "code",
   "execution_count": null,
   "metadata": {},
   "outputs": [],
   "source": [
    "i=1\n",
    "j=5\n",
    "while(i<4):\n",
    "    while(j<8):\n",
    "        print(i,j)\n",
    "        i=i+1\n",
    "        j=j+1"
   ]
  },
  {
   "cell_type": "code",
   "execution_count": null,
   "metadata": {},
   "outputs": [],
   "source": [
    "# while loop with else part"
   ]
  },
  {
   "cell_type": "code",
   "execution_count": null,
   "metadata": {},
   "outputs": [],
   "source": [
    "# example\n",
    "a=10\n",
    "while(a<=5):\n",
    "    print(a)\n",
    "    a=a+1\n",
    "else:\n",
    "    print(\"i am from else block\")"
   ]
  },
  {
   "cell_type": "code",
   "execution_count": null,
   "metadata": {},
   "outputs": [],
   "source": [
    "#break statement"
   ]
  },
  {
   "cell_type": "code",
   "execution_count": null,
   "metadata": {},
   "outputs": [],
   "source": [
    "while True:\n",
    "    line=input('>')\n",
    "    if line=='done':\n",
    "        #break\n",
    "     print(line)\n",
    "print(\"finished\")\n"
   ]
  },
  {
   "cell_type": "code",
   "execution_count": null,
   "metadata": {},
   "outputs": [],
   "source": [
    "while True:\n",
    "    line=input('>')\n",
    "    if line=='done':\n",
    "        break\n",
    "    print(line)\n",
    "print(\"finished\")\n"
   ]
  },
  {
   "cell_type": "code",
   "execution_count": null,
   "metadata": {},
   "outputs": [],
   "source": [
    "#continue statement"
   ]
  },
  {
   "cell_type": "code",
   "execution_count": null,
   "metadata": {},
   "outputs": [],
   "source": [
    "while True:\n",
    "    line=input('>')\n",
    "    if line[0]=='#':\n",
    "        continue\n",
    "    if line =='done':\n",
    "        break\n",
    "    print(line)\n",
    "print(\"finished\")\n"
   ]
  },
  {
   "cell_type": "code",
   "execution_count": null,
   "metadata": {},
   "outputs": [],
   "source": [
    "#pass statement"
   ]
  },
  {
   "cell_type": "code",
   "execution_count": null,
   "metadata": {},
   "outputs": [],
   "source": [
    "# example 2\n",
    "if 1>2:\n",
    "    pass\n",
    "else:\n",
    "    print(\"i am from else block\")"
   ]
  },
  {
   "cell_type": "code",
   "execution_count": null,
   "metadata": {},
   "outputs": [],
   "source": [
    "# example 3\n",
    "i=1\n",
    "while i<=10:\n",
    "    if(i==5):\n",
    "        pass\n",
    "        print(\"pass statement found\")\n",
    "    print(i)\n",
    "    i=i+1\n",
    "print(\"program terminated\")"
   ]
  }
 ],
 "metadata": {
  "kernelspec": {
   "display_name": "Python 3",
   "language": "python",
   "name": "python3"
  },
  "language_info": {
   "codemirror_mode": {
    "name": "ipython",
    "version": 3
   },
   "file_extension": ".py",
   "mimetype": "text/x-python",
   "name": "python",
   "nbconvert_exporter": "python",
   "pygments_lexer": "ipython3",
   "version": "3.7.6"
  }
 },
 "nbformat": 4,
 "nbformat_minor": 4
}
